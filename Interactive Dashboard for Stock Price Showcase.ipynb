{
 "cells": [
  {
   "cell_type": "code",
   "execution_count": 35,
   "metadata": {},
   "outputs": [],
   "source": [
    "# For Dashboarding\n",
    "import dash\n",
    "import dash_core_components as dcc\n",
    "import dash_html_components as html\n",
    "import plotly.graph_objs as go\n",
    "import numpy as np\n",
    "from dash.dependencies import Input, Output,State # State is for holding the input and do a \"Submit\" button\n",
    "import json\n",
    "import base64"
   ]
  },
  {
   "cell_type": "code",
   "execution_count": 36,
   "metadata": {},
   "outputs": [],
   "source": [
    "# For scarping stock data from yahoo\n",
    "import pandas as pd\n",
    "pd.core.common.is_list_like = pd.api.types.is_list_like\n",
    "from pandas_datareader import DataReader\n",
    "from pandas_datareader import data as web\n",
    "# For time stamps\n",
    "from datetime import datetime\n",
    "# For publishing the dashboard\n",
    "import dash_auth "
   ]
  },
  {
   "cell_type": "code",
   "execution_count": 37,
   "metadata": {},
   "outputs": [],
   "source": [
    "# create a list of Stock options for dropdown menu\n",
    "nsdq=pd.read_csv('NASDAQcompanylist.csv')\n",
    "nsdq.set_index('Symbol',inplace=True)\n",
    "## since the drop-down menu takes in a list of dictionary object [{label:x,value:y}]  \n",
    "options=[]\n",
    "for tic in nsdq.index:\n",
    "    mydict={}\n",
    "    mydict['label']=str(nsdq.loc[tic,'Name'])+' '+tic\n",
    "    mydict['value']=tic\n",
    "    options.append(mydict)"
   ]
  },
  {
   "cell_type": "code",
   "execution_count": 38,
   "metadata": {},
   "outputs": [
    {
     "name": "stderr",
     "output_type": "stream",
     "text": [
      " * Running on http://127.0.0.1:8050/ (Press CTRL+C to quit)\n",
      "127.0.0.1 - - [13/Nov/2018 17:00:47] \"GET / HTTP/1.1\" 401 -\n",
      "127.0.0.1 - - [13/Nov/2018 17:00:52] \"GET / HTTP/1.1\" 200 -\n",
      "127.0.0.1 - - [13/Nov/2018 17:00:53] \"GET /_dash-layout HTTP/1.1\" 200 -\n",
      "127.0.0.1 - - [13/Nov/2018 17:00:53] \"GET /_dash-dependencies HTTP/1.1\" 200 -\n"
     ]
    },
    {
     "name": "stdout",
     "output_type": "stream",
     "text": [
      "1y\n"
     ]
    },
    {
     "name": "stderr",
     "output_type": "stream",
     "text": [
      "127.0.0.1 - - [13/Nov/2018 17:00:53] \"POST /_dash-update-component HTTP/1.1\" 200 -\n",
      "127.0.0.1 - - [13/Nov/2018 17:00:53] \"GET /favicon.ico HTTP/1.1\" 200 -\n"
     ]
    }
   ],
   "source": [
    "USERNAME_PASSWORD_PAIRS = [\n",
    "    ['admin', 'password'],['wangzijian', '123456']\n",
    "]\n",
    "\n",
    "app=dash.Dash()\n",
    "auth = dash_auth.BasicAuth(app,USERNAME_PASSWORD_PAIRS)\n",
    "\n",
    "app.layout=html.Div([\n",
    "     \n",
    "    html.H1('Interactive Stock Ticker Dashboard Demo'),\n",
    "    html.H2('Developed by Zijian Wang'),\n",
    "    html.Div([  \n",
    "    html.H3('Enter a Stock Symbol(eg: AAPL):',style={'paddingRight':'30px'}),\n",
    "    dcc.Dropdown(id='my_ticker_symbol',options=options,value=['TSLA'],multi=True)],\n",
    "        style={'display':'inline-block','verticalAlign':'top','width':'30%'}),\n",
    "    \n",
    "    html.Div([html.H3('Select a Start and End Date:'),\n",
    "             dcc.DatePickerRange(id='my_date_picker',\n",
    "                                min_date_allowed=datetime(2015,1,1),\n",
    "                                max_date_allowed=datetime.today(),\n",
    "                                start_date=datetime(2018,1,1),\n",
    "                                end_date=datetime.today())],\n",
    "            style={'display':'inline-block'}),\n",
    "    \n",
    "    html.Div([\n",
    "        \n",
    "        html.Button(id='submit-button',n_clicks=0,children='Submit',\n",
    "                   style={'fontSize':24,'marginLeft':'30px'})\n",
    "    ],style={'display':'inline-block'}),\n",
    "    \n",
    "    dcc.Graph(id='my_graph',figure={  \n",
    "        \"data\":[{'x':[1,2],'y':[3,1]}]\n",
    "    ,'layout':{'title':'Default Title'}})        \n",
    "        \n",
    "    ])\n",
    "    \n",
    "@app.callback(Output('my_graph','figure'),\n",
    "              [Input('submit-button','n_clicks')],\n",
    "             [State('my_ticker_symbol','value'),\n",
    "             State('my_date_picker','start_date'),\n",
    "             State('my_date_picker','end_date')])\n",
    "# each updated graphs or objects needs a function to do the updating\n",
    "def update_graph(n_clicks,stock_ticker,start_date,end_date):\n",
    "    start=datetime.strptime(start_date[:10],'%Y-%m-%d') # convert the string to datetime object\n",
    "    end=datetime.strptime(end_date[:10],'%Y-%m-%d')\n",
    "    \n",
    "    traces=[]\n",
    "    for tic in stock_ticker:\n",
    "        df=web.DataReader(tic,'iex',start,end)\n",
    "        traces.append({'x':df.index,'y':df['close'],'name':tic})\n",
    "    \n",
    "    fig={\"data\":traces,\n",
    "        'layout':{'title':stock_ticker}}\n",
    "    return fig\n",
    "\n",
    "if __name__=='__main__':\n",
    "    app.run_server()"
   ]
  }
 ],
 "metadata": {
  "kernelspec": {
   "display_name": "Python 3",
   "language": "python",
   "name": "python3"
  },
  "language_info": {
   "codemirror_mode": {
    "name": "ipython",
    "version": 3
   },
   "file_extension": ".py",
   "mimetype": "text/x-python",
   "name": "python",
   "nbconvert_exporter": "python",
   "pygments_lexer": "ipython3",
   "version": "3.6.3"
  },
  "varInspector": {
   "cols": {
    "lenName": 16,
    "lenType": 16,
    "lenVar": 40
   },
   "kernels_config": {
    "python": {
     "delete_cmd_postfix": "",
     "delete_cmd_prefix": "del ",
     "library": "var_list.py",
     "varRefreshCmd": "print(var_dic_list())"
    },
    "r": {
     "delete_cmd_postfix": ") ",
     "delete_cmd_prefix": "rm(",
     "library": "var_list.r",
     "varRefreshCmd": "cat(var_dic_list()) "
    }
   },
   "types_to_exclude": [
    "module",
    "function",
    "builtin_function_or_method",
    "instance",
    "_Feature"
   ],
   "window_display": false
  }
 },
 "nbformat": 4,
 "nbformat_minor": 2
}
